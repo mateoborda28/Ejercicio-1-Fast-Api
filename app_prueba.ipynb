{
 "cells": [
  {
   "cell_type": "code",
   "execution_count": 1,
   "id": "3c4750a9",
   "metadata": {},
   "outputs": [],
   "source": [
    "import requests\n",
    "import json"
   ]
  },
  {
   "cell_type": "code",
   "execution_count": 3,
   "id": "ddb967b1-e9e0-4c28-b273-7b606cdf9214",
   "metadata": {},
   "outputs": [
    {
     "name": "stdout",
     "output_type": "stream",
     "text": [
      "200\n",
      "{'email': 'acm0020@yahoo.es', 'prediction': 511.44}\n"
     ]
    }
   ],
   "source": [
    "# URL de la API\n",
    "url = 'http://127.0.0.1:8000/predict'\n",
    "\n",
    "# Datos de ejemplo (los reales los proporcionarás al momento de uso)\n",
    "data = {\n",
    "    \"email\": \"acm0020@yahoo.es\",\n",
    "    \"dominio\": \"gmail\",\n",
    "    \"Tec\": \"Smartphone\",\n",
    "    \"Address\": \"Munich\",\n",
    "    \"Avg\": 32.063775,\n",
    "    \"Time_App\": 10.71915,\n",
    "    \"Time_Web\": 37.712509,\n",
    "    \"Length\": 3.004743,\n",
    "}\n",
    "\n",
    "# Hacer la solicitud POST\n",
    "headers = {\"Content-Type\": \"application/json\"}\n",
    "response = requests.post(url, data=json.dumps(data), headers=headers)\n",
    "\n",
    "# Verificar el código de estado y la respuesta\n",
    "print(response.status_code)\n",
    "if response.status_code == 200:\n",
    "    print(response.json())\n",
    "else:\n",
    "    print(\"Error en la solicitud:\", response.text)"
   ]
  }
 ],
 "metadata": {
  "kernelspec": {
   "display_name": "Python 3 (ipykernel)",
   "language": "python",
   "name": "python3"
  },
  "language_info": {
   "codemirror_mode": {
    "name": "ipython",
    "version": 3
   },
   "file_extension": ".py",
   "mimetype": "text/x-python",
   "name": "python",
   "nbconvert_exporter": "python",
   "pygments_lexer": "ipython3",
   "version": "3.10.11"
  }
 },
 "nbformat": 4,
 "nbformat_minor": 5
}
